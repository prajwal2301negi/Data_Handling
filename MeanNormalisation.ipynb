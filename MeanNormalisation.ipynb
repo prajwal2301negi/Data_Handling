{
 "cells": [
  {
   "cell_type": "markdown",
   "id": "cb8a86f5-4185-435d-bd59-5672ec90be62",
   "metadata": {},
   "source": [
    "# Feature Engineering -> Mean Normalisation"
   ]
  },
  {
   "cell_type": "code",
   "execution_count": 1,
   "id": "b3bd6f78-ab25-447d-aa3e-a2ccda201e1d",
   "metadata": {},
   "outputs": [],
   "source": [
    "# Xi_new = (Xi - X_mean)/(X_max - X_min)"
   ]
  },
  {
   "cell_type": "code",
   "execution_count": 3,
   "id": "e1615079-5c19-47eb-b5ad-34d0b4d1325e",
   "metadata": {},
   "outputs": [],
   "source": [
    "# Will create Center data.\n",
    "# Sklearn has no class for it"
   ]
  },
  {
   "cell_type": "code",
   "execution_count": null,
   "id": "b12bcfc0-f5df-4254-baf9-34d779bbad82",
   "metadata": {},
   "outputs": [],
   "source": []
  }
 ],
 "metadata": {
  "kernelspec": {
   "display_name": "Python 3 (ipykernel)",
   "language": "python",
   "name": "python3"
  },
  "language_info": {
   "codemirror_mode": {
    "name": "ipython",
    "version": 3
   },
   "file_extension": ".py",
   "mimetype": "text/x-python",
   "name": "python",
   "nbconvert_exporter": "python",
   "pygments_lexer": "ipython3",
   "version": "3.12.4"
  }
 },
 "nbformat": 4,
 "nbformat_minor": 5
}
