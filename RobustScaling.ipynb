{
 "cells": [
  {
   "cell_type": "markdown",
   "id": "378bf17f-6653-423b-b84d-433b4ad8372e",
   "metadata": {},
   "source": [
    "# Feature Scaling -> Robust Scaling"
   ]
  },
  {
   "cell_type": "code",
   "execution_count": 1,
   "id": "0e933136-7857-4e2b-8d21-1865e5f47ce9",
   "metadata": {},
   "outputs": [],
   "source": [
    "# Xi_new = (Xi - X_median)/(IQR(75th percent value - 25th percent value))"
   ]
  },
  {
   "cell_type": "code",
   "execution_count": 2,
   "id": "76fce1c2-d603-4ce6-9c94-8efce2fa37c7",
   "metadata": {},
   "outputs": [],
   "source": [
    "# It is robust to outliers"
   ]
  },
  {
   "cell_type": "code",
   "execution_count": 3,
   "id": "562447d1-98bb-48a9-ae02-3d129edf0f6d",
   "metadata": {},
   "outputs": [],
   "source": [
    "# Sk learn has RobustClass for it"
   ]
  },
  {
   "cell_type": "code",
   "execution_count": null,
   "id": "e917ccff-421f-42a0-adc8-a0d1250dc579",
   "metadata": {},
   "outputs": [],
   "source": []
  }
 ],
 "metadata": {
  "kernelspec": {
   "display_name": "Python 3 (ipykernel)",
   "language": "python",
   "name": "python3"
  },
  "language_info": {
   "codemirror_mode": {
    "name": "ipython",
    "version": 3
   },
   "file_extension": ".py",
   "mimetype": "text/x-python",
   "name": "python",
   "nbconvert_exporter": "python",
   "pygments_lexer": "ipython3",
   "version": "3.12.4"
  }
 },
 "nbformat": 4,
 "nbformat_minor": 5
}
