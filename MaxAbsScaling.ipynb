{
 "cells": [
  {
   "cell_type": "markdown",
   "id": "2e196daf-d99d-42f5-878f-d11cf08d9386",
   "metadata": {},
   "source": [
    "# Feature Scaling -> MaxAbsScaling"
   ]
  },
  {
   "cell_type": "code",
   "execution_count": null,
   "id": "4b4a8899-be2e-4a0b-85e5-a07c0cb161a4",
   "metadata": {},
   "outputs": [],
   "source": [
    "# Xi = Xi/(X_max)\n",
    "# Used when lot of 0s are present."
   ]
  }
 ],
 "metadata": {
  "kernelspec": {
   "display_name": "Python 3 (ipykernel)",
   "language": "python",
   "name": "python3"
  },
  "language_info": {
   "codemirror_mode": {
    "name": "ipython",
    "version": 3
   },
   "file_extension": ".py",
   "mimetype": "text/x-python",
   "name": "python",
   "nbconvert_exporter": "python",
   "pygments_lexer": "ipython3",
   "version": "3.12.4"
  }
 },
 "nbformat": 4,
 "nbformat_minor": 5
}
