{
 "cells": [
  {
   "cell_type": "code",
   "execution_count": 1,
   "id": "975999b6-cfb6-4a4d-9a74-266caf04fb7e",
   "metadata": {},
   "outputs": [],
   "source": [
    "# We will replce by arbitary value\n",
    "# if normally distributed then, value use is ->\n",
    "# 1. mean + 3*(std)\n",
    "# 2. mean - 3*(std)"
   ]
  },
  {
   "cell_type": "code",
   "execution_count": 2,
   "id": "7aec3f7e-19fe-4449-b2ab-926c07d53cd4",
   "metadata": {},
   "outputs": [],
   "source": [
    "# Missing values are replace by outliers if normal distribution is there."
   ]
  },
  {
   "cell_type": "code",
   "execution_count": 3,
   "id": "e61ab1c1-b175-43ca-b1f7-8c2b66933f90",
   "metadata": {},
   "outputs": [],
   "source": [
    "# If data is skewed, -> (IQR Proximity rule is used)"
   ]
  },
  {
   "cell_type": "code",
   "execution_count": 6,
   "id": "5e96c593-d42c-4df5-b562-c47bb3fff386",
   "metadata": {},
   "outputs": [],
   "source": [
    "# Formula for skewed data->\n",
    "# 1. Q1 - 1.5*(IQR)\n",
    "# 2. Q3 - 1.5*(IQR)\n",
    "# (Q3 - Q1) -> IQR Proximity\n",
    "# Q3 -> 25th Percentile Q1\n",
    "# Q1 -> 75th Percentile Q3"
   ]
  },
  {
   "cell_type": "code",
   "execution_count": 7,
   "id": "f26bafee-8bab-41d6-920a-80fdaa46310d",
   "metadata": {},
   "outputs": [],
   "source": [
    "# Easy to use but variance, covariance , correlation get effected."
   ]
  },
  {
   "cell_type": "markdown",
   "id": "6da179d2-d518-4732-ac3e-9b0be347c97b",
   "metadata": {},
   "source": [
    "**Use when DATA is not missing at RANDOM**"
   ]
  }
 ],
 "metadata": {
  "kernelspec": {
   "display_name": "Python 3 (ipykernel)",
   "language": "python",
   "name": "python3"
  },
  "language_info": {
   "codemirror_mode": {
    "name": "ipython",
    "version": 3
   },
   "file_extension": ".py",
   "mimetype": "text/x-python",
   "name": "python",
   "nbconvert_exporter": "python",
   "pygments_lexer": "ipython3",
   "version": "3.12.4"
  }
 },
 "nbformat": 4,
 "nbformat_minor": 5
}
