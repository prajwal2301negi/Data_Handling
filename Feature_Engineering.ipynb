{
 "cells": [
  {
   "cell_type": "markdown",
   "id": "ff306040-def5-4933-b6e9-92013dd7515b",
   "metadata": {},
   "source": [
    "# Feature Engineering"
   ]
  },
  {
   "cell_type": "markdown",
   "id": "3bdb2694-66e6-43de-b04b-0802ce916241",
   "metadata": {},
   "source": [
    "**Selecting necessary features for training model**"
   ]
  },
  {
   "cell_type": "code",
   "execution_count": 3,
   "id": "89caf3c3-a3ea-44c6-9a63-f2d2c7954dfa",
   "metadata": {},
   "outputs": [],
   "source": [
    "# It consists of ->\n",
    "# 1. Feature Transformation -> 1. Missing_Values_Imputation, 2.Handling_Categorical_Features 3.Outlier_Detection 4.Feature_Scaling\n",
    "# 2. Feature Construction\n",
    "# 3. Feature Selection\n",
    "# 4. Feature Extraction"
   ]
  },
  {
   "cell_type": "code",
   "execution_count": null,
   "id": "84662286-491c-4ec6-8bc0-e7cb9a69a87a",
   "metadata": {},
   "outputs": [],
   "source": []
  }
 ],
 "metadata": {
  "kernelspec": {
   "display_name": "Python 3 (ipykernel)",
   "language": "python",
   "name": "python3"
  },
  "language_info": {
   "codemirror_mode": {
    "name": "ipython",
    "version": 3
   },
   "file_extension": ".py",
   "mimetype": "text/x-python",
   "name": "python",
   "nbconvert_exporter": "python",
   "pygments_lexer": "ipython3",
   "version": "3.12.4"
  }
 },
 "nbformat": 4,
 "nbformat_minor": 5
}
