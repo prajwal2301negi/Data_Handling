{
 "cells": [
  {
   "cell_type": "markdown",
   "id": "f2d755bf-a00f-4fa3-976e-a33ec241ffaa",
   "metadata": {},
   "source": [
    "# Working with Data"
   ]
  },
  {
   "cell_type": "markdown",
   "id": "f27203d0-c5c4-43b9-9ba3-d472ad57aad9",
   "metadata": {},
   "source": [
    "**Opening a csv file from url**"
   ]
  },
  {
   "cell_type": "code",
   "execution_count": 4,
   "id": "6502b730-01b9-419b-a472-8e3388e3ccf2",
   "metadata": {},
   "outputs": [],
   "source": [
    "import numpy as np\n",
    "import pandas as pd"
   ]
  },
  {
   "cell_type": "code",
   "execution_count": 6,
   "id": "45f166e0-114a-4f90-a21b-958cc7b6271f",
   "metadata": {},
   "outputs": [
    {
     "data": {
      "text/html": [
       "<div>\n",
       "<style scoped>\n",
       "    .dataframe tbody tr th:only-of-type {\n",
       "        vertical-align: middle;\n",
       "    }\n",
       "\n",
       "    .dataframe tbody tr th {\n",
       "        vertical-align: top;\n",
       "    }\n",
       "\n",
       "    .dataframe thead th {\n",
       "        text-align: right;\n",
       "    }\n",
       "</style>\n",
       "<table border=\"1\" class=\"dataframe\">\n",
       "  <thead>\n",
       "    <tr style=\"text-align: right;\">\n",
       "      <th></th>\n",
       "      <th>Country</th>\n",
       "      <th>Region</th>\n",
       "    </tr>\n",
       "  </thead>\n",
       "  <tbody>\n",
       "    <tr>\n",
       "      <th>0</th>\n",
       "      <td>Algeria</td>\n",
       "      <td>AFRICA</td>\n",
       "    </tr>\n",
       "    <tr>\n",
       "      <th>1</th>\n",
       "      <td>Angola</td>\n",
       "      <td>AFRICA</td>\n",
       "    </tr>\n",
       "    <tr>\n",
       "      <th>2</th>\n",
       "      <td>Benin</td>\n",
       "      <td>AFRICA</td>\n",
       "    </tr>\n",
       "    <tr>\n",
       "      <th>3</th>\n",
       "      <td>Botswana</td>\n",
       "      <td>AFRICA</td>\n",
       "    </tr>\n",
       "    <tr>\n",
       "      <th>4</th>\n",
       "      <td>Burkina</td>\n",
       "      <td>AFRICA</td>\n",
       "    </tr>\n",
       "    <tr>\n",
       "      <th>...</th>\n",
       "      <td>...</td>\n",
       "      <td>...</td>\n",
       "    </tr>\n",
       "    <tr>\n",
       "      <th>189</th>\n",
       "      <td>Paraguay</td>\n",
       "      <td>SOUTH AMERICA</td>\n",
       "    </tr>\n",
       "    <tr>\n",
       "      <th>190</th>\n",
       "      <td>Peru</td>\n",
       "      <td>SOUTH AMERICA</td>\n",
       "    </tr>\n",
       "    <tr>\n",
       "      <th>191</th>\n",
       "      <td>Suriname</td>\n",
       "      <td>SOUTH AMERICA</td>\n",
       "    </tr>\n",
       "    <tr>\n",
       "      <th>192</th>\n",
       "      <td>Uruguay</td>\n",
       "      <td>SOUTH AMERICA</td>\n",
       "    </tr>\n",
       "    <tr>\n",
       "      <th>193</th>\n",
       "      <td>Venezuela</td>\n",
       "      <td>SOUTH AMERICA</td>\n",
       "    </tr>\n",
       "  </tbody>\n",
       "</table>\n",
       "<p>194 rows × 2 columns</p>\n",
       "</div>"
      ],
      "text/plain": [
       "       Country         Region\n",
       "0      Algeria         AFRICA\n",
       "1       Angola         AFRICA\n",
       "2        Benin         AFRICA\n",
       "3     Botswana         AFRICA\n",
       "4      Burkina         AFRICA\n",
       "..         ...            ...\n",
       "189   Paraguay  SOUTH AMERICA\n",
       "190       Peru  SOUTH AMERICA\n",
       "191   Suriname  SOUTH AMERICA\n",
       "192    Uruguay  SOUTH AMERICA\n",
       "193  Venezuela  SOUTH AMERICA\n",
       "\n",
       "[194 rows x 2 columns]"
      ]
     },
     "execution_count": 6,
     "metadata": {},
     "output_type": "execute_result"
    }
   ],
   "source": [
    "import requests\n",
    "from io import StringIO\n",
    "\n",
    "url = \"https://raw.githubusercontent.com/cs109/2014_data/master/countries.csv\"\n",
    "headers = {\"User-Agent\":\"Mozilla/5.0 (Macintosh; Intel Mac OS X 10.14; rv:66.0) Gecko/201000101 Firefox/66.0\"}\n",
    "req = requests.get(url, headers = headers)\n",
    "data = StringIO(req.text)\n",
    "\n",
    "pd.read_csv(data)"
   ]
  },
  {
   "cell_type": "code",
   "execution_count": null,
   "id": "8bd319f5-d2de-4e4e-b431-6e0e82c21ee6",
   "metadata": {},
   "outputs": [],
   "source": [
    "pd.read_csv('movie_titles_metadata.tsv', sep = '\\t', names=['sno', 'name', 'release_year', 'rating', 'votes', 'genres']) \n",
    "# use when column names are not defined\n",
    "# for tsv(Tab separated file) file"
   ]
  },
  {
   "cell_type": "code",
   "execution_count": 8,
   "id": "4bf1b256-cf5d-4266-8185-538010bdaa88",
   "metadata": {},
   "outputs": [],
   "source": [
    "# Index_col Parameter\n",
    "pd.read_csv('', index_col = 'column_name') \n",
    "# will remove the default indexing and create the column(provided) as index"
   ]
  },
  {
   "cell_type": "code",
   "execution_count": null,
   "id": "8365c7bd-7b19-42fc-a7f4-c0a9913d1237",
   "metadata": {},
   "outputs": [],
   "source": [
    "# Header Parameter\n",
    "pd.read_csv('', header = 1) \n",
    "# will create 1st row as Header\n",
    "# when column name is not there or column name is using as row snippet"
   ]
  },
  {
   "cell_type": "code",
   "execution_count": null,
   "id": "d6aade2b-2146-47ed-ab06-c36dc689e1d0",
   "metadata": {},
   "outputs": [],
   "source": [
    "# use_cols parameter\n",
    "pd.read_csv('', usecols = ['column1','col2','col3','col4'])\n",
    "# Only those features will appear which we required"
   ]
  },
  {
   "cell_type": "code",
   "execution_count": null,
   "id": "40df8439-5019-44c7-9e34-b305f26f44ef",
   "metadata": {},
   "outputs": [],
   "source": [
    "# Skiprows/Nrows Parameter\n",
    "pd.read_csv('', skiprows = [0,1])\n",
    "# WIll skip 1st and 2nd row\n",
    "# can also write login to remove rows in multiple of 5, or remove odd rows, even rows\n",
    "\n",
    "pd.read_csv('', nrows = 100)\n",
    "# Only 100 rows will come now\n",
    "# when using 10,00,000 rows"
   ]
  },
  {
   "cell_type": "code",
   "execution_count": null,
   "id": "6d9f6c0e-088f-419f-8bb1-e17535ead6ff",
   "metadata": {},
   "outputs": [],
   "source": [
    "# Encoding Parameter\n",
    "pd.read_csv('', encoding = 'latin-1') \n",
    "# will provide the encoding parameter of the file if not UTF.\n",
    "# can also change encoding parameter in Sublime"
   ]
  },
  {
   "cell_type": "code",
   "execution_count": null,
   "id": "25d168c5-c50e-4dc2-8488-e327423528d4",
   "metadata": {},
   "outputs": [],
   "source": [
    "# Skipping lines\n",
    "pd.read_csv('')  # Error -> Expected 8 fields on line 65, saw 9\n",
    "pd.read_csv('', error_bad_lines = False)\n",
    "# Will skip these lines"
   ]
  },
  {
   "cell_type": "code",
   "execution_count": null,
   "id": "ba214351-3ce6-44d0-829a-0fbc1c8e08ad",
   "metadata": {},
   "outputs": [],
   "source": [
    "# Dtypes Paramters\n",
    "pd.read_csv('',dtype={'colName whose dtype we want from float to int':int})"
   ]
  },
  {
   "cell_type": "code",
   "execution_count": null,
   "id": "f75ee77b-a747-44b5-84bb-f510423d108c",
   "metadata": {},
   "outputs": [],
   "source": [
    "# Handling Dates\n",
    "# Sometimes dates are passed as strings, therefore we cannot use dates features\n",
    "pd.read_csv('').info() # Date Feature will appear as Object ie String\n",
    "# To Parse to date Object\n",
    "pd.read_csv('', parse_date = ['colName which we need to parse'])\n",
    "# It will treat as date and we can implement date features now."
   ]
  },
  {
   "cell_type": "markdown",
   "id": "dd05263a-7b1d-40ed-a757-e31d63ab76e6",
   "metadata": {},
   "source": [
    "**CONVERTORS**"
   ]
  },
  {
   "cell_type": "code",
   "execution_count": null,
   "id": "43eaf06c-2ce2-4c6e-858e-445be0ccaccb",
   "metadata": {},
   "outputs": [],
   "source": [
    "def rename(name):\n",
    "    if name == \"Name present in the row\":\n",
    "        return \"The new_name we want there\"\n",
    "    else:\n",
    "        return name"
   ]
  },
  {
   "cell_type": "code",
   "execution_count": null,
   "id": "fd772e27-7a87-4aec-9626-61a6c31ac447",
   "metadata": {},
   "outputs": [],
   "source": [
    "rename(\"Name we will be passing which is present in the row and will be replacing by new_name\")"
   ]
  },
  {
   "cell_type": "code",
   "execution_count": null,
   "id": "f67609ba-9b67-4e12-b793-b7741e8d1443",
   "metadata": {},
   "outputs": [],
   "source": [
    "pd.read_csv('', convertors = {'col_name where we want to see changes': rename})\n",
    "# Transformaton will be applied"
   ]
  },
  {
   "cell_type": "markdown",
   "id": "f21a17d5-b255-4db4-a3af-4af5ba8caed5",
   "metadata": {},
   "source": [
    "**Missing Values**"
   ]
  },
  {
   "cell_type": "code",
   "execution_count": null,
   "id": "671e0ee2-8f4a-460b-963f-344cee2e8252",
   "metadata": {},
   "outputs": [],
   "source": [
    "# Missing values -> NaN or '-'\n",
    "pd.read_csv('', na_values = ['Male', 'Female', 'etc'])\n",
    "# Will replace the male to NaN present in the rows."
   ]
  },
  {
   "cell_type": "markdown",
   "id": "8787efbb-3259-483e-ad6b-268dd00f8005",
   "metadata": {},
   "source": [
    "**Chunks**"
   ]
  },
  {
   "cell_type": "code",
   "execution_count": null,
   "id": "b1d4c2c6-9dc4-4910-8380-36b46e908e21",
   "metadata": {},
   "outputs": [],
   "source": [
    "dfs = pd.read_csv('', chunksize = 5000)\n",
    "# Will divide in chunks"
   ]
  },
  {
   "cell_type": "code",
   "execution_count": null,
   "id": "f7d192f1-3140-4cbc-baaa-4a0b9719b69b",
   "metadata": {},
   "outputs": [],
   "source": [
    "for chunks in dfs:\n",
    "    print(chunk.shape)   \n",
    "# (4158,14)\n",
    "# (4158,14)\n",
    "# (4158,14)\n",
    "# (4158,14)\n",
    " "
   ]
  }
 ],
 "metadata": {
  "kernelspec": {
   "display_name": "Python 3 (ipykernel)",
   "language": "python",
   "name": "python3"
  },
  "language_info": {
   "codemirror_mode": {
    "name": "ipython",
    "version": 3
   },
   "file_extension": ".py",
   "mimetype": "text/x-python",
   "name": "python",
   "nbconvert_exporter": "python",
   "pygments_lexer": "ipython3",
   "version": "3.12.4"
  }
 },
 "nbformat": 4,
 "nbformat_minor": 5
}
